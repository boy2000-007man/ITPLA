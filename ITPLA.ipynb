{
 "cells": [
  {
   "cell_type": "markdown",
   "metadata": {
    "deletable": true,
    "editable": true
   },
   "source": [
    "[Manual](https://github.com/pybox2d/pybox2d/wiki/manual)\n",
    "\n",
    "[Microsoft Visual C++ Compiler for Python 2.7](https://www.microsoft.com/en-us/download/confirmation.aspx?id=44266)\n",
    "\n",
    "# System Requirements\n",
    "\n",
    "- python 2.7.6 (python -V)\n",
    "- Pygame 1.9.3 (pip freeze | grep pygame)\n",
    "- swig [swig.exe](http://www.swig.org/download.html)\n",
    "\n",
    "```\n",
    "sudo apt-get install python\n",
    "sudo pip install pygame\n",
    "sudo apt-get install swig\n",
    "```\n",
    "\n",
    "1.\n",
    "\n",
    "```\n",
    "git clone https://github.com/pybox2d/pybox2d.git\n",
    "python setup.py build\n",
    "sudo python setup.py install\n",
    "```\n",
    "\n",
    "2.\n",
    "\n",
    "```\n",
    "sudo pip install box2d\n",
    "```\n",
    "\n",
    "3.\n",
    "\n",
    "[pybox2d](https://code.google.com/archive/p/pybox2d/downloads)"
   ]
  },
  {
   "cell_type": "code",
   "execution_count": 1,
   "metadata": {
    "collapsed": false,
    "deletable": true,
    "editable": true
   },
   "outputs": [],
   "source": [
    "# !/usr/bin/env python\n",
    "# -*- coding: utf-8 -*-\n",
    "\n",
    "from __future__ import division\n",
    "from Box2D import *\n",
    "from pygame.locals import (QUIT, KEYDOWN, K_ESCAPE)\n",
    "import math\n",
    "import random\n",
    "import operator\n",
    "import collections\n",
    "import heapq as hq\n",
    "import numpy as np\n",
    "import pygame as pg\n",
    "import matplotlib.path as pth\n",
    "import matplotlib.pyplot as plt\n",
    "\n",
    "\n",
    "def rand(polygon):\n",
    "    border = pth.Path(polygon)\n",
    "    while True:\n",
    "        p = (random.uniform(min(x), max(x)), random.uniform(min(y), max(y)))\n",
    "        if border.contains_point(p):\n",
    "            return p\n",
    "\n",
    "\n",
    "def plot():\n",
    "    plt.plot(x, y, marker='*')\n",
    "    for m in modules:\n",
    "        plt.plot([m.position[0]], [m.position[1]], marker='o')\n",
    "    plt.show()\n",
    "\n",
    "\n",
    "def world2screen(v):\n",
    "    world = np.array((max(x) - min(x), max(y) - min(y)))\n",
    "    screen = np.array(SCREEN)\n",
    "    scale = min(np.divide(screen, world))\n",
    "    offset = screen / 2 - scale * np.array((min(x) + max(x), min(y) + max(y))) / 2\n",
    "    r = scale * np.array(v) + offset\n",
    "    r[1] = SCREEN[1] - r[1]\n",
    "    return r\n",
    "\n",
    "\n",
    "# a polygon area calculator (CCW)\n",
    "# Shoelace formula\n",
    "def area(x, y): return (np.roll(x, 1).dot(y) - np.roll(y, 1).dot(x)) / 2\n",
    "\n",
    "\n",
    "def distance2line(p, l): return 2 * area(*zip(p, *l)) / np.linalg.norm(np.subtract(*l))\n",
    "\n",
    "\n",
    "def body2worldvs(b): return map(\n",
    "    lambda v: b.transform * v, b.fixtures[0].shape.vertices)\n",
    "\n",
    "\n",
    "def vs2xy(vs, x, y): return sorted(map(lambda v: [distance2line(\n",
    "    v, y), distance2line(v, x)], vs), key=operator.itemgetter(0))\n",
    "\n",
    "\n",
    "def x2y(x, xy): return np.array(x).dot(np.linalg.lstsq(\n",
    "    *zip(*map(lambda (x, y): [[1, x], y], xy)))[0])\n",
    "\n",
    "\n",
    "def surface_distance(vs, es, x, y):\n",
    "    surf_dist = []\n",
    "    for v in vs:\n",
    "        for e in es:\n",
    "            xy = vs2xy(e, (v, v + x), (v, v + y))\n",
    "            if xy[0][0] < 0 < xy[1][0]:\n",
    "                surf_dist.append(x2y([1, 0], xy))\n",
    "    return surf_dist"
   ]
  },
  {
   "cell_type": "code",
   "execution_count": 2,
   "metadata": {
    "collapsed": true,
    "deletable": true,
    "editable": true
   },
   "outputs": [],
   "source": [
    "N = 3\n",
    "POLYGON = 'tr1_1.csv'\n",
    "lam = 0\n",
    "TARGET_FPS = 24\n",
    "TIME_STEP = 1 / TARGET_FPS\n",
    "SCREEN = (640, 480)\n",
    "random.seed(0)"
   ]
  },
  {
   "cell_type": "code",
   "execution_count": 3,
   "metadata": {
    "collapsed": false,
    "deletable": true,
    "editable": true
   },
   "outputs": [
    {
     "name": "stdout",
     "output_type": "stream",
     "text": [
      "5.17306601162\n"
     ]
    }
   ],
   "source": [
    "# read the polygon from .csv file with normalizing and scaling\n",
    "polygon = np.array(\n",
    "    map(lambda p: map(eval, p.split()), open(POLYGON))) / 100 #* 1.5\n",
    "polygon = (polygon - polygon.mean(axis=0))\n",
    "polygon = polygon[::-1]\n",
    "x, y = zip(*polygon)\n",
    "polygonArea = area(x, y)\n",
    "print polygonArea\n",
    "# This defines a triangle in CCW order."
   ]
  },
  {
   "cell_type": "code",
   "execution_count": 4,
   "metadata": {
    "collapsed": false,
    "deletable": true,
    "editable": true
   },
   "outputs": [
    {
     "name": "stdout",
     "output_type": "stream",
     "text": [
      "1.29903810568\n"
     ]
    }
   ],
   "source": [
    "module = np.array(\n",
    "    map(lambda a: [math.cos(a), math.sin(a)], 2 * math.pi / N * np.arange(N)))\n",
    "moduleArea = area(*zip(*module))\n",
    "print moduleArea\n",
    "B_P = int(polygonArea / moduleArea)"
   ]
  },
  {
   "cell_type": "code",
   "execution_count": 5,
   "metadata": {
    "collapsed": false,
    "deletable": true,
    "editable": true
   },
   "outputs": [],
   "source": [
    "world = b2World(gravity=(0, 0), doSleep=False)\n",
    "borders = map(lambda v: world.CreateStaticBody(shapes=b2EdgeShape(vertices=(\n",
    "    v - np.mean(v, axis=0)).tolist()), position=np.mean(v, axis=0).tolist()), zip(np.roll(polygon, 2), polygon))\n",
    "modules = map(lambda _: world.CreateDynamicBody(shapes=b2PolygonShape(\n",
    "    vertices=module.tolist()), position=rand(polygon), angle=random.random() * math.pi), range(B_P))\n",
    "for b in borders + modules:\n",
    "    b.fixtures[0].sensor = True"
   ]
  },
  {
   "cell_type": "markdown",
   "metadata": {
    "deletable": true,
    "editable": true
   },
   "source": [
    "for m in modules:\n",
    "    m.bullet = True"
   ]
  },
  {
   "cell_type": "code",
   "execution_count": 6,
   "metadata": {
    "collapsed": true,
    "deletable": true,
    "editable": true
   },
   "outputs": [],
   "source": [
    "def my_draw_polygon(self, body):\n",
    "    pg.draw.lines(screen, (255, 0, 0, 0), True, map(lambda v: world2screen(body.transform * v), self.vertices))\n",
    "    for c in filter(lambda c: c.contact.touching, body.contacts):\n",
    "        vertices = [world2screen(v) for v in [body.position, c.other.position]]\n",
    "        pg.draw.lines(screen, (0, 0, 255, 0), False, vertices)\n",
    "        A = c.contact.fixtureA\n",
    "        B = c.contact.fixtureB\n",
    "        res = b2Distance(shapeA=A.shape, shapeB=B.shape,\n",
    "                         transformA=A.body.transform, transformB=B.body.transform)\n",
    "\n",
    "        def f2i(p): return map(int, world2screen(p))\n",
    "        pg.draw.circle(screen, (0, 255, 0, 0), f2i(res.pointA), 5)\n",
    "        pg.draw.circle(screen, (0, 255, 0, 0), f2i(res.pointB), 5)\n",
    "\n",
    "\n",
    "def my_draw_edge(self, body):\n",
    "    pg.draw.lines(screen, (0, 0, 0, 0), True, map(lambda v: world2screen(body.transform * v), self.vertices))\n",
    "\n",
    "\n",
    "b2.polygonShape.draw = my_draw_polygon\n",
    "b2.edgeShape.draw = my_draw_edge"
   ]
  },
  {
   "cell_type": "code",
   "execution_count": 7,
   "metadata": {
    "collapsed": true,
    "deletable": true,
    "editable": true
   },
   "outputs": [],
   "source": [
    "def weight(surf_dist, dist): return surf_dist ** 4 + dist ** -4\n",
    "\n",
    "\n",
    "def coeffient(surf_dist, dist): return (1 - surf_dist / dist) ** 2 - 1\n",
    "\n",
    "\n",
    "def included_angle(*ls):\n",
    "    return (np.arctan2(*ls[0]) - np.arctan2(*ls[1]) + math.pi / 2) % math.pi - math.pi / 2\n",
    "\n",
    "\n",
    "CCW90 = np.array([[0, -1], [1, 0]])"
   ]
  },
  {
   "cell_type": "code",
   "execution_count": 8,
   "metadata": {
    "collapsed": true,
    "deletable": true,
    "editable": true
   },
   "outputs": [],
   "source": [
    "NEIGHBOUR_FLAG = True\n",
    "OVERLAP_FLAG = None"
   ]
  },
  {
   "cell_type": "code",
   "execution_count": 9,
   "metadata": {
    "collapsed": false,
    "deletable": true,
    "editable": true
   },
   "outputs": [],
   "source": [
    "screen = pg.display.set_mode(SCREEN, 0, 32)\n",
    "pg.display.set_caption('ITPLA')\n",
    "clock = pg.time.Clock()\n",
    "\n",
    "while not any(map(lambda e: e.type == QUIT or (e.type == KEYDOWN and e.key == K_ESCAPE), pg.event.get())):\n",
    "    screen.fill((220, 220, 220, 0))\n",
    "    for b in world.bodies:\n",
    "        b.fixtures[0].shape.draw(b)\n",
    "    pg.display.flip()\n",
    "    clock.tick()  # TARGET_FPS)\n",
    "    pg.display.set_caption('ITPLA {}'.format(clock.get_fps()))\n",
    "\n",
    "    num = len(modules)\n",
    "    position = map(lambda m: m.position, modules)\n",
    "    vertices = map(body2worldvs, modules)\n",
    "    distance = map(lambda vs: map(lambda p: map(\n",
    "        lambda v: np.linalg.norm(p - v), vs), position), vertices)\n",
    "    edge = map(lambda ds: map(lambda d: tuple(sorted(zip(\n",
    "        *hq.nsmallest(2, zip(range(N), d), key=operator.itemgetter(-1)))[0])), ds), distance)\n",
    "    neighbour = map(lambda _: collections.defaultdict(list), range(num))\n",
    "    for i in range(num):\n",
    "        for j in range(num):\n",
    "            if i != j:\n",
    "                neighbour[i][edge[i][j]].append(\n",
    "                    (j, np.linalg.norm(position[i] - position[j])))\n",
    "    neighbour = map(lambda i: dict(map(lambda e: [e, min(\n",
    "        neighbour[i][e], key=operator.itemgetter(-1))[0]], neighbour[i])), range(num))\n",
    "\n",
    "    for i in range(num):\n",
    "        mi, pi, ivs = modules[i], position[i], vertices[i]\n",
    "        ies = zip(np.roll(ivs, 2), ivs)\n",
    "\n",
    "        weights, linearVelocity, angularVelocity = [], [], []\n",
    "\n",
    "        for ei, j in neighbour[i].iteritems():\n",
    "            mj, pj, jvs = modules[j], position[j], vertices[j]\n",
    "            jes = zip(np.roll(jvs, 2), jvs)\n",
    "\n",
    "            dist = np.linalg.norm(pi - pj)\n",
    "            r = np.array(pi - pj)\n",
    "            r /= np.linalg.norm(r)\n",
    "            n = CCW90.dot(r)\n",
    "            surf_dist = min(surface_distance(ivs, jes, n, r) +\n",
    "                            surface_distance(jvs, ies, -n, r))\n",
    "            k_r = coeffient(surf_dist, dist)\n",
    "\n",
    "            ej = edge[j][i]\n",
    "            eivs = operator.itemgetter(*ei)(vertices[i])\n",
    "            ejvs = operator.itemgetter(*ej)(vertices[j])\n",
    "            k_n = distance2line(np.mean(eivs, axis=0), ((0, 0), r))\\\n",
    "                - distance2line(np.mean(ejvs, axis=0), ((0, 0), r))\n",
    "            if NEIGHBOUR_FLAG:\n",
    "                weights.append(weight(surf_dist, dist))\n",
    "                linearVelocity.append(k_r * r)\n",
    "                linearVelocity[-1] -= k_n * n\n",
    "                ia = included_angle(np.subtract(*eivs), np.subtract(*ejvs))\n",
    "                angularVelocity.append(ia)\n",
    "\n",
    "        for c in filter(lambda c: c.contact.touching, mi.contacts):\n",
    "            ovs = body2worldvs(c.other)\n",
    "            if isinstance(c.other.fixtures[0].shape, b2EdgeShape):\n",
    "                dist = distance2line(pi, ovs)\n",
    "                v = np.subtract(*ovs)\n",
    "                v /= np.linalg.norm(v)\n",
    "                n = CCW90.dot(v)\n",
    "                if 0 < dist:\n",
    "                    surf_dist = min(\n",
    "                        [0] + surface_distance(ivs, [ovs], v, n) + surface_distance(ovs, ies, -v, n))\n",
    "                    k_n = coeffient(surf_dist, dist)\n",
    "                    if OVERLAP_FLAG:\n",
    "                        weights.append(weight(surf_dist, dist))\n",
    "                        linearVelocity.append(-k_n * n)\n",
    "                        angularVelocity.append(included_angle(np.subtract(\n",
    "                            *ies[np.argmin(map(lambda e: distance2line(np.mean(e, axis=0), ovs), ies))]), np.subtract(*ovs)))\n",
    "            elif isinstance(c.other.fixtures[0].shape, b2PolygonShape):\n",
    "                pass\n",
    "        mi.linearVelocity *= lam\n",
    "        mi.angularVelocity *= lam\n",
    "        if weights:\n",
    "            weights = np.array(weights) / sum(weights)\n",
    "            mi.linearVelocity += np.average(linearVelocity,\n",
    "                                            axis=0, weights=weights) / 10\n",
    "            mi.angularVelocity += np.average(angularVelocity,\n",
    "                                             axis=0, weights=weights) / 10\n",
    "\n",
    "    world.Step(timeStep=TIME_STEP, velocityIterations=6, positionIterations=2)\n",
    "\n",
    "pg.quit()"
   ]
  }
 ],
 "metadata": {
  "kernelspec": {
   "display_name": "Python 2",
   "language": "python",
   "name": "python2"
  },
  "language_info": {
   "codemirror_mode": {
    "name": "ipython",
    "version": 2
   },
   "file_extension": ".py",
   "mimetype": "text/x-python",
   "name": "python",
   "nbconvert_exporter": "python",
   "pygments_lexer": "ipython2",
   "version": "2.7.6"
  }
 },
 "nbformat": 4,
 "nbformat_minor": 2
}
