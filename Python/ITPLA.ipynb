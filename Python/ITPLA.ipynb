{
 "cells": [
  {
   "cell_type": "markdown",
   "metadata": {
    "deletable": true,
    "editable": true
   },
   "source": [
    "[pybox2d 2.1.0 manual](https://github.com/pybox2d/pybox2d/wiki/manual)\n",
    "\n",
    "[Microsoft Visual C++ Compiler for Python 2.7](https://www.microsoft.com/en-us/download/confirmation.aspx?id=44266)\n",
    "\n",
    "# System Requirements\n",
    "\n",
    "- python 2.7.6 `python -V`\n",
    "- Pygame 1.9.3 `pip freeze | grep pygame`\n",
    "- swig [swig.exe download](http://www.swig.org/download.html)\n",
    "\n",
    "```\n",
    "sudo apt-get install python\n",
    "sudo pip install pygame\n",
    "sudo apt-get install swig\n",
    "```\n",
    "\n",
    "1.\n",
    "\n",
    "```\n",
    "git clone https://github.com/pybox2d/pybox2d.git\n",
    "python setup.py build\n",
    "sudo python setup.py install\n",
    "```\n",
    "\n",
    "2.\n",
    "\n",
    "```\n",
    "sudo pip install box2d\n",
    "```\n",
    "\n",
    "3.\n",
    "\n",
    "[pybox2d downloads](https://code.google.com/archive/p/pybox2d/downloads)"
   ]
  },
  {
   "cell_type": "code",
   "execution_count": 1,
   "metadata": {
    "collapsed": false,
    "deletable": true,
    "editable": true
   },
   "outputs": [],
   "source": [
    "# !/usr/bin/env python\n",
    "# -*- coding: utf-8 -*-\n",
    "\n",
    "from __future__ import division\n",
    "from Box2D import *\n",
    "from pygame.locals import (QUIT, KEYDOWN, K_ESCAPE)\n",
    "import math\n",
    "import random\n",
    "import numpy as np\n",
    "import pygame as pg\n",
    "import matplotlib.pyplot as plt\n",
    "\n",
    "def plot():\n",
    "    plt.plot(x, y, marker='*')\n",
    "    for m in modules:\n",
    "        plt.plot([m.position[0]], [m.position[1]], marker='o')\n",
    "    plt.show()\n",
    "\n",
    "\n",
    "def world2screen(v):\n",
    "    world = np.array((max(x) - min(x), max(y) - min(y)))\n",
    "    screen = np.array(SCREEN)\n",
    "    scale = min(np.divide(screen, world))\n",
    "    offset = screen / 2 - scale * np.array((min(x) + max(x), min(y) + max(y))) / 2\n",
    "    r = scale * np.array(v) + offset\n",
    "    r[1] = SCREEN[1] - r[1]\n",
    "    return r"
   ]
  },
  {
   "cell_type": "code",
   "execution_count": 2,
   "metadata": {
    "collapsed": false,
    "deletable": true,
    "editable": true
   },
   "outputs": [],
   "source": [
    "N = 3\n",
    "POLYGON = '../tr1_1.csv'\n",
    "lam = 0\n",
    "TARGET_FPS = 24\n",
    "TIME_STEP = 1 / TARGET_FPS\n",
    "SCREEN = (640, 480)\n",
    "random.seed(0)"
   ]
  },
  {
   "cell_type": "code",
   "execution_count": 3,
   "metadata": {
    "collapsed": false
   },
   "outputs": [],
   "source": [
    "from ITPLA import *"
   ]
  },
  {
   "cell_type": "code",
   "execution_count": 4,
   "metadata": {
    "collapsed": false,
    "deletable": true,
    "editable": true
   },
   "outputs": [
    {
     "name": "stdout",
     "output_type": "stream",
     "text": [
      "5.17306601162\n",
      "1.29903810568\n"
     ]
    }
   ],
   "source": [
    "# read the polygon from .csv file with normalizing and scaling\n",
    "polygon = np.array(\n",
    "    map(lambda p: map(eval, p.split()), open(POLYGON))) / 100 #* 1.5\n",
    "polygon = (polygon - polygon.mean(axis=0))\n",
    "polygon = polygon[::-1]\n",
    "x, y = zip(*polygon)\n",
    "print area(*zip(*polygon))\n",
    "# This defines a triangle in CCW order.\n",
    "\n",
    "module = np.array(\n",
    "    map(lambda a: [math.cos(a), math.sin(a)], 2 * math.pi / N * np.arange(N)))\n",
    "print area(*zip(*module))\n",
    "B_P = int(area(*zip(*polygon)) / area(*zip(*module)))"
   ]
  },
  {
   "cell_type": "code",
   "execution_count": 5,
   "metadata": {
    "collapsed": true,
    "deletable": true,
    "editable": true
   },
   "outputs": [],
   "source": [
    "def my_draw_polygon(self, body):\n",
    "    pg.draw.lines(screen, (255, 0, 0, 0), True, map(lambda v: world2screen(body.transform * v), self.vertices))\n",
    "    for c in filter(lambda c: c.contact.touching, body.contacts):\n",
    "        vertices = [world2screen(v) for v in [body.position, c.other.position]]\n",
    "        pg.draw.lines(screen, (0, 0, 255, 0), False, vertices)\n",
    "        A = c.contact.fixtureA\n",
    "        B = c.contact.fixtureB\n",
    "        res = b2Distance(shapeA=A.shape, shapeB=B.shape,\n",
    "                         transformA=A.body.transform, transformB=B.body.transform)\n",
    "\n",
    "        def f2i(p): return map(int, world2screen(p))\n",
    "        pg.draw.circle(screen, (0, 255, 0, 0), f2i(res.pointA), 5)\n",
    "        pg.draw.circle(screen, (0, 255, 0, 0), f2i(res.pointB), 5)\n",
    "\n",
    "\n",
    "def my_draw_edge(self, body):\n",
    "    pg.draw.lines(screen, (0, 0, 0, 0), True, map(lambda v: world2screen(body.transform * v), self.vertices))\n",
    "\n",
    "\n",
    "b2.polygonShape.draw = my_draw_polygon\n",
    "b2.edgeShape.draw = my_draw_edge"
   ]
  },
  {
   "cell_type": "code",
   "execution_count": 6,
   "metadata": {
    "collapsed": false
   },
   "outputs": [],
   "source": [
    "screen = pg.display.set_mode(SCREEN, 0, 32)\n",
    "pg.display.set_caption('ITPLA')\n",
    "clock = pg.time.Clock()\n",
    "\n",
    "for w in ITPLA(polygon, module, B_P):\n",
    "    if any(map(lambda e: e.type == QUIT or (e.type == KEYDOWN and e.key == K_ESCAPE), pg.event.get())):\n",
    "        pg.quit()\n",
    "        break\n",
    "    screen.fill((220, 220, 220, 0))\n",
    "    for b in w.bodies:\n",
    "        b.fixtures[0].shape.draw(b)\n",
    "    pg.display.flip()\n",
    "    clock.tick()  # TARGET_FPS)\n",
    "    pg.display.set_caption('ITPLA {}'.format(clock.get_fps()))"
   ]
  }
 ],
 "metadata": {
  "kernelspec": {
   "display_name": "Python 2",
   "language": "python",
   "name": "python2"
  },
  "language_info": {
   "codemirror_mode": {
    "name": "ipython",
    "version": 2
   },
   "file_extension": ".py",
   "mimetype": "text/x-python",
   "name": "python",
   "nbconvert_exporter": "python",
   "pygments_lexer": "ipython2",
   "version": "2.7.13"
  }
 },
 "nbformat": 4,
 "nbformat_minor": 2
}
